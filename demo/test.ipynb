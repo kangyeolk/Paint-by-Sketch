{
 "cells": [
  {
   "cell_type": "code",
   "execution_count": 1,
   "metadata": {},
   "outputs": [],
   "source": [
    "import cv2\n",
    "from PIL import Image"
   ]
  },
  {
   "cell_type": "code",
   "execution_count": 5,
   "metadata": {},
   "outputs": [],
   "source": [
    "H, W = 512, 512\n",
    "img_p = Image.open('img_p.png').convert('RGB').resize((H, W))    \n",
    "mask_np = cv2.imread('mask.jpg')\n",
    "mask_np = cv2.cvtColor(mask_np, cv2.COLOR_BGR2RGB)\n",
    "sketch_np = cv2.imread('sketch_p.png')\n",
    "sketch_np = cv2.cvtColor(sketch_np, cv2.COLOR_BGR2RGB)\n",
    "mask_np[sketch_np == 255] = 0\n",
    "mask_p = Image.fromarray(mask_np)    \n",
    "ref_p = Image.open('ref_p.png').convert('RGB').resize((H, W))\n",
    "ret_img = Image.open('ret_img.png').convert('RGB').resize((H, W))\n",
    "\n",
    "grid_img = Image.new('RGB', (W*4, H))\n",
    "for i, data in enumerate([img_p, mask_p, ref_p, ret_img]):\n",
    "    grid_img.paste(data, (W*i, 0))\n",
    "grid_img.save('grid_img.jpg')\n"
   ]
  },
  {
   "cell_type": "code",
   "execution_count": null,
   "metadata": {},
   "outputs": [],
   "source": []
  }
 ],
 "metadata": {
  "kernelspec": {
   "display_name": "Python 3.8.5 ('ldm')",
   "language": "python",
   "name": "python3"
  },
  "language_info": {
   "codemirror_mode": {
    "name": "ipython",
    "version": 3
   },
   "file_extension": ".py",
   "mimetype": "text/x-python",
   "name": "python",
   "nbconvert_exporter": "python",
   "pygments_lexer": "ipython3",
   "version": "3.8.5"
  },
  "orig_nbformat": 4,
  "vscode": {
   "interpreter": {
    "hash": "61603a25451a50fd58d7acaaa61bf81a653397452de8bca04b075b2cb99ae4bc"
   }
  }
 },
 "nbformat": 4,
 "nbformat_minor": 2
}
